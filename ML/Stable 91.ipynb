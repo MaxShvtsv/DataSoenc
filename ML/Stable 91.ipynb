{
 "cells": [
  {
   "cell_type": "code",
   "execution_count": 22,
   "metadata": {},
   "outputs": [],
   "source": [
    "import pandas as pd\n",
    "from sklearn.preprocessing import normalize\n",
    "from sklearn.feature_extraction.text import TfidfVectorizer\n",
    "from sklearn.model_selection import train_test_split\n",
    "from sklearn.naive_bayes import MultinomialNB, ComplementNB\n",
    "from sklearn.linear_model import LogisticRegression\n",
    "from sklearn.ensemble import AdaBoostClassifier\n",
    "from sklearn.metrics import f1_score\n",
    "from sklearn.tree import DecisionTreeClassifier\n",
    "from nltk.stem import WordNetLemmatizer\n",
    "from nltk.corpus import stopwords\n",
    "import re"
   ]
  },
  {
   "cell_type": "code",
   "execution_count": 23,
   "metadata": {},
   "outputs": [],
   "source": [
    "stemmer = WordNetLemmatizer()\n",
    "# Regular expressions\n",
    "NEWLINE_RE = r\"<\\w{1,}\\s{1,}/>\" # html\n",
    "NOT_WORD = r\"\\W\" # special char\n",
    "SINGLE_CHAR = r\"\\^[a-zA-Z]\\s+\" # single chars\n",
    "MULT_SPACE = r\"\\s+\" # mult spaces -> one space\n",
    "\n",
    "# Read data\n",
    "data = pd.read_csv(\"train.csv\")\n",
    "test = pd.read_csv('test.csv')\n",
    "submission = pd.read_csv('submission.csv')"
   ]
  },
  {
   "cell_type": "code",
   "execution_count": 24,
   "metadata": {},
   "outputs": [],
   "source": [
    "# Remove redundant substrings\n",
    "def cleaner(string, regex, subst):\n",
    "    string = re.sub(regex, subst, string)\n",
    "    return string\n",
    "\n",
    "def less3(string):\n",
    "    string = string.split(\" \")\n",
    "    new_string = []\n",
    "    for i in range(len(string)):\n",
    "        if len(string[i]) > 2:\n",
    "            new_string.append(string[i])\n",
    "    return \" \".join(new_string)\n",
    "\n",
    "def stm(string, stemmer):\n",
    "    string = string.lower().split(\" \")\n",
    "    new_string = [stemmer.lemmatize(x) for x in string]\n",
    "    return \" \".join(new_string)\n",
    "\n",
    "data[\"review\"] = data[\"review\"].apply(cleaner, args = (NEWLINE_RE, \" \"))\n",
    "data[\"review\"] = data[\"review\"].apply(cleaner, args = (NOT_WORD, \" \"))\n",
    "data[\"review\"] = data[\"review\"].apply(cleaner, args = (MULT_SPACE, \" \"))\n",
    "data[\"review\"] = data[\"review\"].apply(less3)\n",
    "data[\"review\"] = data[\"review\"].apply(stm, args = (stemmer,))\n",
    "\n",
    "test[\"review\"] = test[\"review\"].apply(cleaner, args = (NEWLINE_RE, \" \"))\n",
    "test[\"review\"] = test[\"review\"].apply(cleaner, args = (NOT_WORD, \" \"))\n",
    "test[\"review\"] = test[\"review\"].apply(cleaner, args = (MULT_SPACE, \" \"))\n",
    "test[\"review\"] = test[\"review\"].apply(less3)\n",
    "test[\"review\"] = test[\"review\"].apply(stm, args = (stemmer,))\n",
    "\n",
    "X = data.drop([\"sentiment\"],1)[\"review\"]\n",
    "Y = data[\"sentiment\"]\n",
    "X_sub = test['review']  # for future submission"
   ]
  },
  {
   "cell_type": "code",
   "execution_count": 25,
   "metadata": {},
   "outputs": [],
   "source": [
    "# Vectorization data\n",
    "vectorizer = TfidfVectorizer(ngram_range=(1,4), min_df=2, max_df=0.59)\n",
    "X = vectorizer.fit_transform(X)\n",
    "X_sub = vectorizer.transform(X_sub) # for future submission\n",
    "X, X_sub = normalize(X, norm = \"max\"), normalize(X_sub, norm = \"max\")\n",
    "x_train, x_test, y_train, y_test = train_test_split(X, Y, test_size=0.1)\n"
   ]
  },
  {
   "cell_type": "code",
   "execution_count": 26,
   "metadata": {},
   "outputs": [
    {
     "name": "stdout",
     "output_type": "stream",
     "text": [
      "Logistic Regression score -- > 0.908057590300581\n",
      "Logistic Regression F1 score -- > 0.9094977623073098\n",
      "--------------------------------------------------\n"
     ]
    }
   ],
   "source": [
    "# Logistic Regression\n",
    "model = LogisticRegression(random_state = 0, solver = \"sag\", max_iter = 1000, n_jobs=-1)\n",
    "model.fit(x_train, y_train)\n",
    "score = model.score(x_test, y_test)\n",
    "print(f'Logistic Regression score -- > {score}')\n",
    "y_pred = model.predict(x_test)\n",
    "y_pred_sub = model.predict(X_sub)\n",
    "print(f'Logistic Regression F1 score -- > {f1_score(y_pred, y_test)}')\n",
    "print('-' * 50)"
   ]
  },
  {
   "cell_type": "code",
   "execution_count": 27,
   "metadata": {},
   "outputs": [],
   "source": [
    "# Write results (of Log Reg) into .csv\n",
    "submission['sentiment'] = y_pred_sub\n",
    "submission.to_csv('results.csv', index=False)"
   ]
  },
  {
   "cell_type": "code",
   "execution_count": null,
   "metadata": {},
   "outputs": [],
   "source": []
  },
  {
   "cell_type": "code",
   "execution_count": null,
   "metadata": {},
   "outputs": [],
   "source": []
  }
 ],
 "metadata": {
  "kernelspec": {
   "display_name": "Python 3",
   "language": "python",
   "name": "python3"
  },
  "language_info": {
   "codemirror_mode": {
    "name": "ipython",
    "version": 3
   },
   "file_extension": ".py",
   "mimetype": "text/x-python",
   "name": "python",
   "nbconvert_exporter": "python",
   "pygments_lexer": "ipython3",
   "version": "3.7.3"
  }
 },
 "nbformat": 4,
 "nbformat_minor": 2
}
